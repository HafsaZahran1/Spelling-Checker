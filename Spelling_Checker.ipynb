{
  "nbformat": 4,
  "nbformat_minor": 0,
  "metadata": {
    "colab": {
      "provenance": []
    },
    "kernelspec": {
      "name": "python3",
      "display_name": "Python 3"
    },
    "language_info": {
      "name": "python"
    }
  },
  "cells": [
    {
      "cell_type": "markdown",
      "source": [
        "# Task 1: Spelling Checker"
      ],
      "metadata": {
        "id": "-X3of-TbC0x_"
      }
    },
    {
      "cell_type": "code",
      "source": [
        "import bisect\n",
        "\n",
        "# Function to read a dictionary file and return a sorted set of words.\n",
        "\n",
        "def read_dictionary(file_path):\n",
        "    with open(file_path, \"r\", errors=\"ignore\") as file:\n",
        "        return sorted({word.strip() for word in file})\n",
        "\n",
        "# Function to find the words closest to the input word in a given list of words.\n",
        "\n",
        "def find_nearest_words(words_list, input_word):\n",
        "    index = bisect.bisect_left(words_list, input_word)\n",
        "    before = words_list[max(0, index - 2):index]\n",
        "    after = words_list[index:index + 3]\n",
        "    return before, after\n",
        "\n",
        "# Class representing a SpellChecker, which uses a dictionary to check and suggest corrections for words.\n",
        "\n",
        "class SpellChecker:\n",
        "    def __init__(self, dictionary):\n",
        "        self.dictionary = dictionary\n",
        "\n",
        "    # Method to check if a word is present in the dictionary.\n",
        "\n",
        "    def is_word_in_dictionary(self, word):\n",
        "        return word in self.dictionary\n",
        "\n",
        "    # Method to get the nearest words to the input word.\n",
        "\n",
        "    def get_nearest_words(self, word):\n",
        "       return find_nearest_words(self.dictionary, word)\n",
        "\n",
        "    # Method to add a word to the dictionary at the appropriate position.\n",
        "\n",
        "    def add_word_to_dictionary(self, word):\n",
        "        index = bisect.bisect_left(self.dictionary, word)\n",
        "        self.dictionary.insert(index, word)\n",
        "\n",
        "# Main part of the code.\n",
        "\n",
        "if __name__ == \"__main__\":\n",
        "    # Reading the dictionary from a file and creating a SpellChecker object.\n",
        "\n",
        "    dictionary_file_path = '/content/dictionary.txt'\n",
        "    dictionary_list = read_dictionary(dictionary_file_path)\n",
        "    spell_checker = SpellChecker(dictionary_list)\n",
        "\n",
        "    # Taking input from the user to check a word.\n",
        "\n",
        "    check_word = input(\"Enter a word to check: \")\n",
        "\n",
        "    # Checking if the input is a valid word.\n",
        "\n",
        "    if not check_word.isalpha():\n",
        "        print(\"Invalid input. Please enter a valid word.\")\n",
        "\n",
        "    # If the word is in the dictionary, it is considered correct.\n",
        "\n",
        "    elif spell_checker.is_word_in_dictionary(check_word):\n",
        "        print(check_word)\n",
        "\n",
        "    # If the word is not in the dictionary, suggestions for similar words are provided.\n",
        "\n",
        "    else:\n",
        "        before, after = spell_checker.get_nearest_words(check_word)\n",
        "        if before:\n",
        "            print(\"Before:\", before)\n",
        "        if after:\n",
        "            print(\"After:\", after)\n",
        "        spell_checker.add_word_to_dictionary(check_word)  # The word is added to the dictionary.\n"
      ],
      "metadata": {
        "colab": {
          "base_uri": "https://localhost:8080/"
        },
        "id": "XJ6OrgHsC6ha",
        "outputId": "18c20261-9d16-46d4-ec69-f5a8b93c20bf"
      },
      "execution_count": 2,
      "outputs": [
        {
          "output_type": "stream",
          "name": "stdout",
          "text": [
            "Enter a word to check: hafsa\n",
            "Before: ['hafnes', 'hafnium']\n",
            "After: ['haft', 'hafted', 'hafting']\n"
          ]
        }
      ]
    }
  ]
}